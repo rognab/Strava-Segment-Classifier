{
 "metadata": {
  "name": "",
  "signature": "sha256:b112b697c674e45e89c99c2e9acf2b323ada6404e1df3291bc5e309151e40af6"
 },
 "nbformat": 3,
 "nbformat_minor": 0,
 "worksheets": [
  {
   "cells": [
    {
     "cell_type": "code",
     "collapsed": false,
     "input": [
      "from rider_data_work import *\n",
      "%load_ext autoreload\n",
      "%autoreload 2"
     ],
     "language": "python",
     "metadata": {},
     "outputs": [],
     "prompt_number": 1
    },
    {
     "cell_type": "code",
     "collapsed": false,
     "input": [
      "# bring in the other dataset to get the segment ids\n",
      "\n",
      "data = pd.read_json('../data/physical_data.json')\n",
      "data = data.set_index(['id'])\n",
      "id_list = data.index"
     ],
     "language": "python",
     "metadata": {},
     "outputs": [],
     "prompt_number": 2
    },
    {
     "cell_type": "code",
     "collapsed": false,
     "input": [
      "# get the 200 activites from each of the 600 segments leaderboards\n",
      "\n",
      "# get_leaderboard(id_list)\n",
      "df = pd.read_json('../data/leaderboard_data.json')\n",
      "# df.head()\n",
      "len(df)"
     ],
     "language": "python",
     "metadata": {},
     "outputs": [
      {
       "metadata": {},
       "output_type": "pyout",
       "prompt_number": 3,
       "text": [
        "600"
       ]
      }
     ],
     "prompt_number": 3
    },
    {
     "cell_type": "code",
     "collapsed": false,
     "input": [
      "# example of some api call, but some are still empty (5 to be exact)\n",
      "\n",
      "# pd.DataFrame(df['entries'][26])"
     ],
     "language": "python",
     "metadata": {},
     "outputs": [],
     "prompt_number": 4
    },
    {
     "cell_type": "code",
     "collapsed": false,
     "input": [
      "# take averages over 200 activities on the leaderboards for each 600 segments\n",
      "\n",
      "averages = get_averages(df)"
     ],
     "language": "python",
     "metadata": {},
     "outputs": [],
     "prompt_number": 5
    },
    {
     "cell_type": "code",
     "collapsed": false,
     "input": [
      "# len(averages)\n",
      "averages.head()"
     ],
     "language": "python",
     "metadata": {},
     "outputs": [
      {
       "html": [
        "<div style=\"max-height:1000px;max-width:1500px;overflow:auto;\">\n",
        "<table border=\"1\" class=\"dataframe\">\n",
        "  <thead>\n",
        "    <tr style=\"text-align: right;\">\n",
        "      <th></th>\n",
        "      <th>activity_id</th>\n",
        "      <th>athlete_gender</th>\n",
        "      <th>athlete_id</th>\n",
        "      <th>athlete_name</th>\n",
        "      <th>athlete_profile</th>\n",
        "      <th>average_hr</th>\n",
        "      <th>average_watts</th>\n",
        "      <th>distance</th>\n",
        "      <th>effort_count</th>\n",
        "      <th>effort_id</th>\n",
        "      <th>elapsed_time</th>\n",
        "      <th>entries</th>\n",
        "      <th>entry_count</th>\n",
        "      <th>moving_time</th>\n",
        "      <th>rank</th>\n",
        "      <th>start_date</th>\n",
        "      <th>start_date_local</th>\n",
        "    </tr>\n",
        "  </thead>\n",
        "  <tbody>\n",
        "    <tr>\n",
        "      <th>0</th>\n",
        "      <td> 1.064480e+08</td>\n",
        "      <td>NaN</td>\n",
        "      <td> 466070.485000</td>\n",
        "      <td>NaN</td>\n",
        "      <td>NaN</td>\n",
        "      <td> 174.866667</td>\n",
        "      <td> 362.367347</td>\n",
        "      <td> 1737.247500</td>\n",
        "      <td> NaN</td>\n",
        "      <td> 2.427381e+09</td>\n",
        "      <td> 333.965000</td>\n",
        "      <td> NaN</td>\n",
        "      <td> NaN</td>\n",
        "      <td> 333.965000</td>\n",
        "      <td> 130.610000</td>\n",
        "      <td>NaN</td>\n",
        "      <td>NaN</td>\n",
        "    </tr>\n",
        "    <tr>\n",
        "      <th>0</th>\n",
        "      <td> 7.588737e+07</td>\n",
        "      <td>NaN</td>\n",
        "      <td> 422025.645000</td>\n",
        "      <td>NaN</td>\n",
        "      <td>NaN</td>\n",
        "      <td> 169.900000</td>\n",
        "      <td> 325.557447</td>\n",
        "      <td> 2350.233500</td>\n",
        "      <td> NaN</td>\n",
        "      <td> 1.703458e+09</td>\n",
        "      <td> 430.545000</td>\n",
        "      <td> NaN</td>\n",
        "      <td> NaN</td>\n",
        "      <td> 430.545000</td>\n",
        "      <td> 108.640000</td>\n",
        "      <td>NaN</td>\n",
        "      <td>NaN</td>\n",
        "    </tr>\n",
        "    <tr>\n",
        "      <th>0</th>\n",
        "      <td> 6.423087e+07</td>\n",
        "      <td>NaN</td>\n",
        "      <td> 390231.835000</td>\n",
        "      <td>NaN</td>\n",
        "      <td>NaN</td>\n",
        "      <td> 159.474038</td>\n",
        "      <td> 284.000000</td>\n",
        "      <td> 2027.740500</td>\n",
        "      <td> NaN</td>\n",
        "      <td> 1.433235e+09</td>\n",
        "      <td> 365.060000</td>\n",
        "      <td> NaN</td>\n",
        "      <td> NaN</td>\n",
        "      <td> 364.440000</td>\n",
        "      <td> 167.840000</td>\n",
        "      <td>NaN</td>\n",
        "      <td>NaN</td>\n",
        "    </tr>\n",
        "    <tr>\n",
        "      <th>0</th>\n",
        "      <td> 9.376640e+07</td>\n",
        "      <td>NaN</td>\n",
        "      <td> 531205.394872</td>\n",
        "      <td>NaN</td>\n",
        "      <td>NaN</td>\n",
        "      <td> 164.647872</td>\n",
        "      <td> 277.526596</td>\n",
        "      <td> 1787.042564</td>\n",
        "      <td> NaN</td>\n",
        "      <td> 2.146985e+09</td>\n",
        "      <td> 343.943590</td>\n",
        "      <td> NaN</td>\n",
        "      <td> NaN</td>\n",
        "      <td> 343.943590</td>\n",
        "      <td> 101.748718</td>\n",
        "      <td>NaN</td>\n",
        "      <td>NaN</td>\n",
        "    </tr>\n",
        "    <tr>\n",
        "      <th>0</th>\n",
        "      <td> 7.986883e+07</td>\n",
        "      <td>NaN</td>\n",
        "      <td> 350163.789744</td>\n",
        "      <td>NaN</td>\n",
        "      <td>NaN</td>\n",
        "      <td> 164.464646</td>\n",
        "      <td> 307.937838</td>\n",
        "      <td> 1694.941026</td>\n",
        "      <td> NaN</td>\n",
        "      <td> 1.800229e+09</td>\n",
        "      <td> 296.482051</td>\n",
        "      <td> NaN</td>\n",
        "      <td> NaN</td>\n",
        "      <td> 296.482051</td>\n",
        "      <td> 100.369231</td>\n",
        "      <td>NaN</td>\n",
        "      <td>NaN</td>\n",
        "    </tr>\n",
        "  </tbody>\n",
        "</table>\n",
        "</div>"
       ],
       "metadata": {},
       "output_type": "pyout",
       "prompt_number": 6,
       "text": [
        "    activity_id  athlete_gender     athlete_id  athlete_name  athlete_profile  \\\n",
        "0  1.064480e+08             NaN  466070.485000           NaN              NaN   \n",
        "0  7.588737e+07             NaN  422025.645000           NaN              NaN   \n",
        "0  6.423087e+07             NaN  390231.835000           NaN              NaN   \n",
        "0  9.376640e+07             NaN  531205.394872           NaN              NaN   \n",
        "0  7.986883e+07             NaN  350163.789744           NaN              NaN   \n",
        "\n",
        "   average_hr  average_watts     distance effort_count     effort_id  \\\n",
        "0  174.866667     362.367347  1737.247500          NaN  2.427381e+09   \n",
        "0  169.900000     325.557447  2350.233500          NaN  1.703458e+09   \n",
        "0  159.474038     284.000000  2027.740500          NaN  1.433235e+09   \n",
        "0  164.647872     277.526596  1787.042564          NaN  2.146985e+09   \n",
        "0  164.464646     307.937838  1694.941026          NaN  1.800229e+09   \n",
        "\n",
        "   elapsed_time entries entry_count  moving_time        rank  start_date  \\\n",
        "0    333.965000     NaN         NaN   333.965000  130.610000         NaN   \n",
        "0    430.545000     NaN         NaN   430.545000  108.640000         NaN   \n",
        "0    365.060000     NaN         NaN   364.440000  167.840000         NaN   \n",
        "0    343.943590     NaN         NaN   343.943590  101.748718         NaN   \n",
        "0    296.482051     NaN         NaN   296.482051  100.369231         NaN   \n",
        "\n",
        "   start_date_local  \n",
        "0               NaN  \n",
        "0               NaN  \n",
        "0               NaN  \n",
        "0               NaN  \n",
        "0               NaN  "
       ]
      }
     ],
     "prompt_number": 6
    },
    {
     "cell_type": "code",
     "collapsed": false,
     "input": [
      "# selected the features I want\n",
      "\n",
      "a = averages[['average_hr', 'average_watts', 'moving_time']]"
     ],
     "language": "python",
     "metadata": {},
     "outputs": [],
     "prompt_number": 7
    },
    {
     "cell_type": "code",
     "collapsed": false,
     "input": [
      "# compute average speed\n",
      "\n",
      "a['average_speed'] = averages['distance']/averages['moving_time']"
     ],
     "language": "python",
     "metadata": {},
     "outputs": [
      {
       "output_type": "stream",
       "stream": "stderr",
       "text": [
        "-c:3: SettingWithCopyWarning: \n",
        "A value is trying to be set on a copy of a slice from a DataFrame.\n",
        "Try using .loc[row_indexer,col_indexer] = value instead\n",
        "\n",
        "See the the caveats in the documentation: http://pandas.pydata.org/pandas-docs/stable/indexing.html#indexing-view-versus-copy\n"
       ]
      }
     ],
     "prompt_number": 8
    },
    {
     "cell_type": "code",
     "collapsed": false,
     "input": [
      "a.head()"
     ],
     "language": "python",
     "metadata": {},
     "outputs": [
      {
       "html": [
        "<div style=\"max-height:1000px;max-width:1500px;overflow:auto;\">\n",
        "<table border=\"1\" class=\"dataframe\">\n",
        "  <thead>\n",
        "    <tr style=\"text-align: right;\">\n",
        "      <th></th>\n",
        "      <th>average_hr</th>\n",
        "      <th>average_watts</th>\n",
        "      <th>moving_time</th>\n",
        "      <th>average_speed</th>\n",
        "    </tr>\n",
        "  </thead>\n",
        "  <tbody>\n",
        "    <tr>\n",
        "      <th>0</th>\n",
        "      <td> 174.866667</td>\n",
        "      <td> 362.367347</td>\n",
        "      <td> 333.965000</td>\n",
        "      <td> 5.201885</td>\n",
        "    </tr>\n",
        "    <tr>\n",
        "      <th>0</th>\n",
        "      <td> 169.900000</td>\n",
        "      <td> 325.557447</td>\n",
        "      <td> 430.545000</td>\n",
        "      <td> 5.458741</td>\n",
        "    </tr>\n",
        "    <tr>\n",
        "      <th>0</th>\n",
        "      <td> 159.474038</td>\n",
        "      <td> 284.000000</td>\n",
        "      <td> 364.440000</td>\n",
        "      <td> 5.563990</td>\n",
        "    </tr>\n",
        "    <tr>\n",
        "      <th>0</th>\n",
        "      <td> 164.647872</td>\n",
        "      <td> 277.526596</td>\n",
        "      <td> 343.943590</td>\n",
        "      <td> 5.195743</td>\n",
        "    </tr>\n",
        "    <tr>\n",
        "      <th>0</th>\n",
        "      <td> 164.464646</td>\n",
        "      <td> 307.937838</td>\n",
        "      <td> 296.482051</td>\n",
        "      <td> 5.716842</td>\n",
        "    </tr>\n",
        "  </tbody>\n",
        "</table>\n",
        "</div>"
       ],
       "metadata": {},
       "output_type": "pyout",
       "prompt_number": 9,
       "text": [
        "   average_hr  average_watts  moving_time  average_speed\n",
        "0  174.866667     362.367347   333.965000       5.201885\n",
        "0  169.900000     325.557447   430.545000       5.458741\n",
        "0  159.474038     284.000000   364.440000       5.563990\n",
        "0  164.647872     277.526596   343.943590       5.195743\n",
        "0  164.464646     307.937838   296.482051       5.716842"
       ]
      }
     ],
     "prompt_number": 9
    },
    {
     "cell_type": "code",
     "collapsed": false,
     "input": [
      "# set the index as the segment ids\n",
      "\n",
      "a = a.set_index(id_list)"
     ],
     "language": "python",
     "metadata": {},
     "outputs": [],
     "prompt_number": 10
    },
    {
     "cell_type": "code",
     "collapsed": false,
     "input": [
      "a.head()"
     ],
     "language": "python",
     "metadata": {},
     "outputs": [
      {
       "html": [
        "<div style=\"max-height:1000px;max-width:1500px;overflow:auto;\">\n",
        "<table border=\"1\" class=\"dataframe\">\n",
        "  <thead>\n",
        "    <tr style=\"text-align: right;\">\n",
        "      <th></th>\n",
        "      <th>average_hr</th>\n",
        "      <th>average_watts</th>\n",
        "      <th>moving_time</th>\n",
        "      <th>average_speed</th>\n",
        "    </tr>\n",
        "    <tr>\n",
        "      <th>id</th>\n",
        "      <th></th>\n",
        "      <th></th>\n",
        "      <th></th>\n",
        "      <th></th>\n",
        "    </tr>\n",
        "  </thead>\n",
        "  <tbody>\n",
        "    <tr>\n",
        "      <th>146</th>\n",
        "      <td> 174.866667</td>\n",
        "      <td> 362.367347</td>\n",
        "      <td> 333.965000</td>\n",
        "      <td> 5.201885</td>\n",
        "    </tr>\n",
        "    <tr>\n",
        "      <th>156</th>\n",
        "      <td> 169.900000</td>\n",
        "      <td> 325.557447</td>\n",
        "      <td> 430.545000</td>\n",
        "      <td> 5.458741</td>\n",
        "    </tr>\n",
        "    <tr>\n",
        "      <th>157</th>\n",
        "      <td> 159.474038</td>\n",
        "      <td> 284.000000</td>\n",
        "      <td> 364.440000</td>\n",
        "      <td> 5.563990</td>\n",
        "    </tr>\n",
        "    <tr>\n",
        "      <th>160</th>\n",
        "      <td> 164.647872</td>\n",
        "      <td> 277.526596</td>\n",
        "      <td> 343.943590</td>\n",
        "      <td> 5.195743</td>\n",
        "    </tr>\n",
        "    <tr>\n",
        "      <th>217</th>\n",
        "      <td> 164.464646</td>\n",
        "      <td> 307.937838</td>\n",
        "      <td> 296.482051</td>\n",
        "      <td> 5.716842</td>\n",
        "    </tr>\n",
        "  </tbody>\n",
        "</table>\n",
        "</div>"
       ],
       "metadata": {},
       "output_type": "pyout",
       "prompt_number": 12,
       "text": [
        "     average_hr  average_watts  moving_time  average_speed\n",
        "id                                                        \n",
        "146  174.866667     362.367347   333.965000       5.201885\n",
        "156  169.900000     325.557447   430.545000       5.458741\n",
        "157  159.474038     284.000000   364.440000       5.563990\n",
        "160  164.647872     277.526596   343.943590       5.195743\n",
        "217  164.464646     307.937838   296.482051       5.716842"
       ]
      }
     ],
     "prompt_number": 12
    },
    {
     "cell_type": "code",
     "collapsed": false,
     "input": [
      "# 5 blank api requests\n",
      "\n",
      "# len(pd.isnull(a).any(1).nonzero()[0])\n",
      "pd.isnull(a).any(1).nonzero()[0]"
     ],
     "language": "python",
     "metadata": {},
     "outputs": [
      {
       "metadata": {},
       "output_type": "pyout",
       "prompt_number": 13,
       "text": [
        "array([ 31, 486, 514, 515, 588])"
       ]
      }
     ],
     "prompt_number": 13
    },
    {
     "cell_type": "code",
     "collapsed": false,
     "input": [
      "# not sure why but at least there is only 5...\n",
      "\n",
      "a[31:32]"
     ],
     "language": "python",
     "metadata": {},
     "outputs": [
      {
       "html": [
        "<div style=\"max-height:1000px;max-width:1500px;overflow:auto;\">\n",
        "<table border=\"1\" class=\"dataframe\">\n",
        "  <thead>\n",
        "    <tr style=\"text-align: right;\">\n",
        "      <th></th>\n",
        "      <th>average_hr</th>\n",
        "      <th>average_watts</th>\n",
        "      <th>moving_time</th>\n",
        "      <th>average_speed</th>\n",
        "    </tr>\n",
        "    <tr>\n",
        "      <th>id</th>\n",
        "      <th></th>\n",
        "      <th></th>\n",
        "      <th></th>\n",
        "      <th></th>\n",
        "    </tr>\n",
        "  </thead>\n",
        "  <tbody>\n",
        "    <tr>\n",
        "      <th>228603</th>\n",
        "      <td>NaN</td>\n",
        "      <td>NaN</td>\n",
        "      <td>NaN</td>\n",
        "      <td>NaN</td>\n",
        "    </tr>\n",
        "  </tbody>\n",
        "</table>\n",
        "</div>"
       ],
       "metadata": {},
       "output_type": "pyout",
       "prompt_number": 14,
       "text": [
        "        average_hr  average_watts  moving_time  average_speed\n",
        "id                                                           \n",
        "228603         NaN            NaN          NaN            NaN"
       ]
      }
     ],
     "prompt_number": 14
    },
    {
     "cell_type": "code",
     "collapsed": false,
     "input": [
      "# 54 api calls with less than 200 on their leaderboard\n",
      "# so I am not sure why the api calls came back blank for 47 segments.\n",
      "\n",
      "b = df[df['effort_count']<=200]\n",
      "len(b)"
     ],
     "language": "python",
     "metadata": {},
     "outputs": [
      {
       "metadata": {},
       "output_type": "pyout",
       "prompt_number": 15,
       "text": [
        "54"
       ]
      }
     ],
     "prompt_number": 15
    },
    {
     "cell_type": "code",
     "collapsed": false,
     "input": [
      "# fill the NaN's with the mean of the columns\n",
      "\n",
      "rider_data = a.fillna(a.mean())\n",
      "len(pd.isnull(rider_data).any(1).nonzero()[0])\n"
     ],
     "language": "python",
     "metadata": {},
     "outputs": [
      {
       "metadata": {},
       "output_type": "pyout",
       "prompt_number": 16,
       "text": [
        "0"
       ]
      }
     ],
     "prompt_number": 16
    },
    {
     "cell_type": "code",
     "collapsed": false,
     "input": [
      "rider_data.to_csv('../data/rider_data.csv', index=False)"
     ],
     "language": "python",
     "metadata": {},
     "outputs": [],
     "prompt_number": 17
    },
    {
     "cell_type": "code",
     "collapsed": false,
     "input": [
      "# get the data ready for the model\n",
      "\n",
      "arrayed_data = rider_data.values\n",
      "arrayed_data"
     ],
     "language": "python",
     "metadata": {},
     "outputs": [
      {
       "metadata": {},
       "output_type": "pyout",
       "prompt_number": 18,
       "text": [
        "array([[  174.86666667,   362.36734694,   333.965     ,     5.20188493],\n",
        "       [  169.9       ,   325.55744681,   430.545     ,     5.45874067],\n",
        "       [  159.47403846,   284.        ,   364.44      ,     5.56398996],\n",
        "       ..., \n",
        "       [  143.34285714,   194.46811594,  3804.90909091,     4.70228857],\n",
        "       [  141.37717391,   175.41878453,   927.31282051,     9.19905323],\n",
        "       [  151.96412214,   223.82916667,   447.94      ,     9.46579564]])"
       ]
      }
     ],
     "prompt_number": 18
    },
    {
     "cell_type": "code",
     "collapsed": false,
     "input": [
      "# get the StandardScaler model and fit the data\n",
      "# may want to inverse scale later\n",
      "\n",
      "scale_model = scale_data()\n",
      "scaled_data = scale_model.fit_transform(arrayed_data)\n",
      "scaled_data"
     ],
     "language": "python",
     "metadata": {},
     "outputs": [
      {
       "metadata": {},
       "output_type": "pyout",
       "prompt_number": 19,
       "text": [
        "array([[ 2.1487745 ,  1.73950193, -0.66067961, -1.10245664],\n",
        "       [ 1.62563143,  1.09976255, -0.54200863, -1.00831323],\n",
        "       [ 0.52745636,  0.37751296, -0.62323399, -0.96973699],\n",
        "       ..., \n",
        "       [-1.1716542 , -1.1785106 ,  3.60418219, -1.28556997],\n",
        "       [-1.37870122, -1.50957935,  0.06838614,  0.36259563],\n",
        "       [-0.26356929, -0.66822885, -0.52063483,  0.46036273]])"
       ]
      }
     ],
     "prompt_number": 19
    },
    {
     "cell_type": "code",
     "collapsed": false,
     "input": [
      "# fit the Kmeans model with 4 clusters initially\n",
      "\n",
      "km = Km_model(4, scaled_data)"
     ],
     "language": "python",
     "metadata": {},
     "outputs": [],
     "prompt_number": 20
    },
    {
     "cell_type": "code",
     "collapsed": false,
     "input": [
      "# looking at the labels of the clusters each segment belongs to\n",
      "\n",
      "labels = km.labels_\n",
      "labels"
     ],
     "language": "python",
     "metadata": {},
     "outputs": [
      {
       "metadata": {},
       "output_type": "pyout",
       "prompt_number": 21,
       "text": [
        "array([3, 3, 3, 3, 3, 3, 3, 3, 3, 3, 3, 3, 3, 3, 3, 3, 3, 3, 3, 3, 3, 3, 3,\n",
        "       3, 3, 3, 3, 3, 3, 3, 3, 3, 3, 3, 3, 3, 3, 1, 3, 3, 3, 3, 3, 2, 3, 3,\n",
        "       3, 0, 3, 3, 3, 1, 1, 2, 3, 3, 1, 1, 2, 3, 3, 1, 3, 3, 1, 1, 1, 3, 1,\n",
        "       1, 1, 1, 3, 1, 3, 1, 3, 3, 3, 1, 3, 1, 1, 2, 3, 3, 3, 2, 3, 2, 2, 3,\n",
        "       1, 2, 1, 1, 1, 2, 3, 3, 3, 3, 3, 3, 3, 2, 1, 2, 0, 3, 3, 3, 3, 1, 2,\n",
        "       3, 3, 0, 2, 1, 1, 2, 1, 3, 1, 3, 2, 3, 1, 1, 1, 1, 3, 1, 3, 1, 2, 3,\n",
        "       1, 2, 1, 1, 3, 2, 2, 3, 1, 3, 1, 1, 1, 1, 2, 1, 2, 3, 1, 1, 0, 3, 0,\n",
        "       2, 3, 3, 1, 1, 3, 1, 1, 1, 1, 2, 3, 3, 1, 2, 1, 2, 3, 3, 3, 3, 3, 2,\n",
        "       1, 3, 3, 3, 2, 1, 1, 2, 3, 1, 0, 0, 2, 2, 3, 2, 3, 1, 1, 1, 1, 3, 3,\n",
        "       2, 0, 0, 3, 3, 3, 0, 0, 2, 2, 1, 2, 2, 3, 1, 2, 2, 3, 0, 0, 3, 2, 3,\n",
        "       1, 2, 3, 2, 1, 3, 0, 1, 3, 3, 1, 3, 0, 2, 3, 1, 2, 3, 3, 2, 1, 1, 3,\n",
        "       1, 2, 1, 3, 1, 2, 3, 3, 1, 1, 2, 3, 2, 2, 2, 1, 2, 2, 3, 3, 1, 3, 3,\n",
        "       2, 1, 3, 2, 2, 3, 2, 2, 0, 2, 3, 2, 2, 1, 3, 3, 2, 1, 1, 1, 2, 1, 3,\n",
        "       2, 3, 1, 1, 0, 2, 2, 1, 2, 3, 2, 2, 0, 3, 2, 2, 3, 3, 1, 2, 2, 2, 3,\n",
        "       2, 2, 1, 1, 1, 0, 2, 3, 3, 1, 2, 3, 2, 2, 2, 2, 1, 3, 3, 1, 2, 1, 2,\n",
        "       3, 3, 2, 2, 0, 2, 1, 1, 2, 2, 2, 2, 3, 2, 2, 2, 1, 1, 3, 3, 1, 1, 2,\n",
        "       3, 2, 1, 2, 1, 0, 2, 1, 0, 1, 2, 1, 1, 0, 1, 2, 3, 3, 0, 2, 3, 2, 3,\n",
        "       3, 2, 2, 1, 2, 3, 2, 2, 0, 1, 1, 1, 1, 0, 2, 0, 2, 3, 1, 3, 0, 2, 2,\n",
        "       1, 3, 0, 1, 1, 2, 2, 1, 1, 2, 3, 1, 1, 2, 1, 3, 0, 1, 1, 2, 1, 2, 2,\n",
        "       3, 2, 0, 1, 1, 3, 2, 1, 3, 0, 3, 3, 1, 1, 1, 1, 1, 2, 1, 3, 3, 1, 2,\n",
        "       2, 1, 1, 1, 1, 0, 1, 3, 3, 1, 1, 0, 1, 2, 3, 1, 1, 2, 1, 3, 2, 2, 1,\n",
        "       2, 2, 1, 3, 3, 2, 1, 1, 3, 3, 2, 1, 2, 3, 2, 1, 1, 2, 2, 1, 3, 0, 1,\n",
        "       1, 2, 1, 0, 2, 2, 2, 2, 3, 2, 1, 0, 3, 1, 1, 2, 1, 1, 1, 1, 2, 1, 1,\n",
        "       2, 0, 2, 3, 1, 3, 0, 2, 1, 1, 1, 1, 1, 2, 1, 3, 1, 1, 1, 1, 3, 1, 0,\n",
        "       2, 1, 2, 2, 3, 2, 3, 2, 1, 1, 2, 2, 0, 1, 2, 2, 2, 2, 2, 1, 3, 3, 1,\n",
        "       1, 1, 3, 1, 3, 2, 0, 3, 1, 3, 1, 2, 2, 3, 1, 3, 3, 2, 0, 1, 1, 1, 0,\n",
        "       2, 2], dtype=int32)"
       ]
      }
     ],
     "prompt_number": 21
    },
    {
     "cell_type": "code",
     "collapsed": false,
     "input": [
      "# check the centers of the clusters(after scaling)\n",
      "\n",
      "centroids = km.cluster_centers_\n",
      "centroids"
     ],
     "language": "python",
     "metadata": {},
     "outputs": [
      {
       "metadata": {},
       "output_type": "pyout",
       "prompt_number": 22,
       "text": [
        "array([[-0.57433081, -0.85328472,  2.69244575, -0.50774802],\n",
        "       [ 0.15679439,  0.68442321, -0.43467721,  1.11025856],\n",
        "       [-1.04246666, -1.03958415, -0.16486354,  0.03858709],\n",
        "       [ 0.83065282,  0.38313536, -0.03985984, -0.98578507]])"
       ]
      }
     ],
     "prompt_number": 22
    },
    {
     "cell_type": "code",
     "collapsed": false,
     "input": [
      "rider_data.columns"
     ],
     "language": "python",
     "metadata": {},
     "outputs": [
      {
       "metadata": {},
       "output_type": "pyout",
       "prompt_number": 23,
       "text": [
        "Index([u'average_hr', u'average_watts', u'moving_time', u'average_speed'], dtype='object')"
       ]
      }
     ],
     "prompt_number": 23
    },
    {
     "cell_type": "code",
     "collapsed": false,
     "input": [
      "# check the centers of the clusters(before scaling)\n",
      "\n",
      "scale_model.inverse_transform(centroids)"
     ],
     "language": "python",
     "metadata": {},
     "outputs": [
      {
       "metadata": {},
       "output_type": "pyout",
       "prompt_number": 24,
       "text": [
        "array([[  149.01378416,   213.18125552,  3062.89531369,     6.82445532],\n",
        "       [  155.95501177,   301.65927801,   517.89633146,    11.23893578],\n",
        "       [  144.56935036,   202.46179111,   737.48332341,     8.3150461 ],\n",
        "       [  162.35255464,   284.32350666,   839.21717929,     5.52020526]])"
       ]
      }
     ],
     "prompt_number": 24
    },
    {
     "cell_type": "code",
     "collapsed": false,
     "input": [
      "# how well did the clustering do? Checking the inertia\n",
      "\n",
      "km.inertia_"
     ],
     "language": "python",
     "metadata": {},
     "outputs": [
      {
       "metadata": {},
       "output_type": "pyout",
       "prompt_number": 25,
       "text": [
        "933.33383629812579"
       ]
      }
     ],
     "prompt_number": 25
    },
    {
     "cell_type": "code",
     "collapsed": false,
     "input": [
      "# put the labels into the physical_data dataframe\n",
      "\n",
      "rider_data['labels'] = km.labels_"
     ],
     "language": "python",
     "metadata": {},
     "outputs": [],
     "prompt_number": 26
    },
    {
     "cell_type": "code",
     "collapsed": false,
     "input": [
      "# looking at the returned dataframe\n",
      "\n",
      "rider_data.head()"
     ],
     "language": "python",
     "metadata": {},
     "outputs": [
      {
       "html": [
        "<div style=\"max-height:1000px;max-width:1500px;overflow:auto;\">\n",
        "<table border=\"1\" class=\"dataframe\">\n",
        "  <thead>\n",
        "    <tr style=\"text-align: right;\">\n",
        "      <th></th>\n",
        "      <th>average_hr</th>\n",
        "      <th>average_watts</th>\n",
        "      <th>moving_time</th>\n",
        "      <th>average_speed</th>\n",
        "      <th>labels</th>\n",
        "    </tr>\n",
        "    <tr>\n",
        "      <th>id</th>\n",
        "      <th></th>\n",
        "      <th></th>\n",
        "      <th></th>\n",
        "      <th></th>\n",
        "      <th></th>\n",
        "    </tr>\n",
        "  </thead>\n",
        "  <tbody>\n",
        "    <tr>\n",
        "      <th>146</th>\n",
        "      <td> 174.866667</td>\n",
        "      <td> 362.367347</td>\n",
        "      <td> 333.965000</td>\n",
        "      <td> 5.201885</td>\n",
        "      <td> 3</td>\n",
        "    </tr>\n",
        "    <tr>\n",
        "      <th>156</th>\n",
        "      <td> 169.900000</td>\n",
        "      <td> 325.557447</td>\n",
        "      <td> 430.545000</td>\n",
        "      <td> 5.458741</td>\n",
        "      <td> 3</td>\n",
        "    </tr>\n",
        "    <tr>\n",
        "      <th>157</th>\n",
        "      <td> 159.474038</td>\n",
        "      <td> 284.000000</td>\n",
        "      <td> 364.440000</td>\n",
        "      <td> 5.563990</td>\n",
        "      <td> 3</td>\n",
        "    </tr>\n",
        "    <tr>\n",
        "      <th>160</th>\n",
        "      <td> 164.647872</td>\n",
        "      <td> 277.526596</td>\n",
        "      <td> 343.943590</td>\n",
        "      <td> 5.195743</td>\n",
        "      <td> 3</td>\n",
        "    </tr>\n",
        "    <tr>\n",
        "      <th>217</th>\n",
        "      <td> 164.464646</td>\n",
        "      <td> 307.937838</td>\n",
        "      <td> 296.482051</td>\n",
        "      <td> 5.716842</td>\n",
        "      <td> 3</td>\n",
        "    </tr>\n",
        "  </tbody>\n",
        "</table>\n",
        "</div>"
       ],
       "metadata": {},
       "output_type": "pyout",
       "prompt_number": 27,
       "text": [
        "     average_hr  average_watts  moving_time  average_speed  labels\n",
        "id                                                                \n",
        "146  174.866667     362.367347   333.965000       5.201885       3\n",
        "156  169.900000     325.557447   430.545000       5.458741       3\n",
        "157  159.474038     284.000000   364.440000       5.563990       3\n",
        "160  164.647872     277.526596   343.943590       5.195743       3\n",
        "217  164.464646     307.937838   296.482051       5.716842       3"
       ]
      }
     ],
     "prompt_number": 27
    },
    {
     "cell_type": "code",
     "collapsed": false,
     "input": [
      "# checking different numbers of clusters and their intertia values\n",
      "\n",
      "k_means_3 = KMeans(init='k-means++', n_clusters=3, n_init=10)\n",
      "k_means_3.fit(scaled_data)\n",
      "k_means_3_labels = k_means_3.labels_\n",
      "k_means_3_cluster_centers = k_means_3.cluster_centers_\n",
      "\n",
      "k_means_4 = KMeans(init='k-means++', n_clusters=4, n_init=10)\n",
      "k_means_4.fit(scaled_data)\n",
      "k_means_4_labels = k_means_4.labels_\n",
      "k_means_4_cluster_centers = k_means_4.cluster_centers_\n",
      "\n",
      "k_means_5 = KMeans(init='k-means++', n_clusters=5, n_init=10)\n",
      "k_means_5.fit(scaled_data)\n",
      "k_means_5_labels = k_means_5.labels_\n",
      "k_means_5_cluster_centers = k_means_5.cluster_centers_\n",
      "\n",
      "k_means_6 = KMeans(init='k-means++', n_clusters=6, n_init=10)\n",
      "k_means_6.fit(scaled_data)\n",
      "k_means_6_labels = k_means_6.labels_\n",
      "k_means_6_cluster_centers = k_means_6.cluster_centers_\n",
      "\n",
      "k_means_7 = KMeans(init='k-means++', n_clusters=7, n_init=10)\n",
      "k_means_7.fit(scaled_data)\n",
      "k_means_7_labels = k_means_7.labels_\n",
      "k_means_7_cluster_centers = k_means_7.cluster_centers_\n",
      "\n",
      "figure(figsize=(8, 5))\n",
      "\n",
      "bar(range(5),[k_means_3.inertia_, k_means_4.inertia_, k_means_5.inertia_, k_means_6.inertia_, k_means_7.inertia_])\n",
      "xticks([0.5,1.5,2.5,3.5,4.5],('k=3','k=4','k=5','k=6','k=7'))\n",
      "title(\"Inertia\");"
     ],
     "language": "python",
     "metadata": {},
     "outputs": [
      {
       "metadata": {},
       "output_type": "display_data",
       "png": "[encoded data removed]",
       "text": [
        "<matplotlib.figure.Figure at 0x10d778c50>"
       ]
      }
     ],
     "prompt_number": 28
    },
    {
     "cell_type": "code",
     "collapsed": false,
     "input": [
      "# looking at the Silhouette Coefficient as a measure of close the clusters are. \n",
      "# closer to 1 the better.\n",
      "\n",
      "k_means_3_silhouette_score = metrics.silhouette_score(scaled_data, k_means_3_labels, metric='euclidean')\n",
      "k_means_4_silhouette_score = metrics.silhouette_score(scaled_data, k_means_4_labels, metric='euclidean')\n",
      "k_means_5_silhouette_score = metrics.silhouette_score(scaled_data, k_means_5_labels, metric='euclidean')\n",
      "k_means_6_silhouette_score = metrics.silhouette_score(scaled_data, k_means_6_labels, metric='euclidean')\n",
      "k_means_7_silhouette_score = metrics.silhouette_score(scaled_data, k_means_7_labels, metric='euclidean')\n",
      "\n",
      "figure(figsize=(8, 5))\n",
      "\n",
      "bar(range(5),[k_means_3_silhouette_score, k_means_4_silhouette_score, k_means_5_silhouette_score, k_means_6_silhouette_score, k_means_7_silhouette_score])\n",
      "xticks([0.5,1.5,2.5,3.5,4.5],('k=3','k=4','k=5','k=6','k=7'))\n",
      "title(\"Silhouette Coefficient\");"
     ],
     "language": "python",
     "metadata": {},
     "outputs": [
      {
       "metadata": {},
       "output_type": "display_data",
       "png": "[encoded data removed]",
       "text": [
        "<matplotlib.figure.Figure at 0x10d78c310>"
       ]
      }
     ],
     "prompt_number": 29
    },
    {
     "cell_type": "code",
     "collapsed": false,
     "input": [
      "# setting up the data to save and export for visualization on the mapppppppsssss\n",
      "# look at the rider data with the model and reset the index.\n",
      "# note the segment ids are going to be under \"id\" for the r_polylines_data, \n",
      "# while for the p_polylines_data they are called \"index\"\n",
      "# important to remember this when ploting...\n",
      "\n",
      "rider_data_m = rider_data.reset_index()\n",
      "rider_data_m.head()"
     ],
     "language": "python",
     "metadata": {},
     "outputs": [
      {
       "html": [
        "<div style=\"max-height:1000px;max-width:1500px;overflow:auto;\">\n",
        "<table border=\"1\" class=\"dataframe\">\n",
        "  <thead>\n",
        "    <tr style=\"text-align: right;\">\n",
        "      <th></th>\n",
        "      <th>id</th>\n",
        "      <th>average_hr</th>\n",
        "      <th>average_watts</th>\n",
        "      <th>moving_time</th>\n",
        "      <th>average_speed</th>\n",
        "      <th>labels</th>\n",
        "    </tr>\n",
        "  </thead>\n",
        "  <tbody>\n",
        "    <tr>\n",
        "      <th>0</th>\n",
        "      <td> 146</td>\n",
        "      <td> 174.866667</td>\n",
        "      <td> 362.367347</td>\n",
        "      <td> 333.965000</td>\n",
        "      <td> 5.201885</td>\n",
        "      <td> 3</td>\n",
        "    </tr>\n",
        "    <tr>\n",
        "      <th>1</th>\n",
        "      <td> 156</td>\n",
        "      <td> 169.900000</td>\n",
        "      <td> 325.557447</td>\n",
        "      <td> 430.545000</td>\n",
        "      <td> 5.458741</td>\n",
        "      <td> 3</td>\n",
        "    </tr>\n",
        "    <tr>\n",
        "      <th>2</th>\n",
        "      <td> 157</td>\n",
        "      <td> 159.474038</td>\n",
        "      <td> 284.000000</td>\n",
        "      <td> 364.440000</td>\n",
        "      <td> 5.563990</td>\n",
        "      <td> 3</td>\n",
        "    </tr>\n",
        "    <tr>\n",
        "      <th>3</th>\n",
        "      <td> 160</td>\n",
        "      <td> 164.647872</td>\n",
        "      <td> 277.526596</td>\n",
        "      <td> 343.943590</td>\n",
        "      <td> 5.195743</td>\n",
        "      <td> 3</td>\n",
        "    </tr>\n",
        "    <tr>\n",
        "      <th>4</th>\n",
        "      <td> 217</td>\n",
        "      <td> 164.464646</td>\n",
        "      <td> 307.937838</td>\n",
        "      <td> 296.482051</td>\n",
        "      <td> 5.716842</td>\n",
        "      <td> 3</td>\n",
        "    </tr>\n",
        "  </tbody>\n",
        "</table>\n",
        "</div>"
       ],
       "metadata": {},
       "output_type": "pyout",
       "prompt_number": 30,
       "text": [
        "    id  average_hr  average_watts  moving_time  average_speed  labels\n",
        "0  146  174.866667     362.367347   333.965000       5.201885       3\n",
        "1  156  169.900000     325.557447   430.545000       5.458741       3\n",
        "2  157  159.474038     284.000000   364.440000       5.563990       3\n",
        "3  160  164.647872     277.526596   343.943590       5.195743       3\n",
        "4  217  164.464646     307.937838   296.482051       5.716842       3"
       ]
      }
     ],
     "prompt_number": 30
    },
    {
     "cell_type": "code",
     "collapsed": false,
     "input": [
      "# bring in the other p_polyline dataset and put it all together\n",
      "\n",
      "P = pd.read_csv('../data/p_polylines_data.csv')"
     ],
     "language": "python",
     "metadata": {},
     "outputs": [],
     "prompt_number": 31
    },
    {
     "cell_type": "code",
     "collapsed": false,
     "input": [
      "P.head()"
     ],
     "language": "python",
     "metadata": {},
     "outputs": [
      {
       "html": [
        "<div style=\"max-height:1000px;max-width:1500px;overflow:auto;\">\n",
        "<table border=\"1\" class=\"dataframe\">\n",
        "  <thead>\n",
        "    <tr style=\"text-align: right;\">\n",
        "      <th></th>\n",
        "      <th>index</th>\n",
        "      <th>average_grade</th>\n",
        "      <th>distance</th>\n",
        "      <th>labels</th>\n",
        "      <th>polyline</th>\n",
        "      <th>total_elevation_gain</th>\n",
        "    </tr>\n",
        "  </thead>\n",
        "  <tbody>\n",
        "    <tr>\n",
        "      <th>0</th>\n",
        "      <td> 146</td>\n",
        "      <td> 8.0</td>\n",
        "      <td> 1720.91</td>\n",
        "      <td> 1</td>\n",
        "      <td> wqbfFx}ckVRY`As@x@Md@YXi@f@c@XMVC^SZ[f@YRCRHd@...</td>\n",
        "      <td> 136.5070</td>\n",
        "    </tr>\n",
        "    <tr>\n",
        "      <th>1</th>\n",
        "      <td> 156</td>\n",
        "      <td> 6.5</td>\n",
        "      <td> 2347.78</td>\n",
        "      <td> 1</td>\n",
        "      <td> {ckfF|ffkVTd@@h@U~BO~@YdA_@|@O~@GdBYz@aApAs@n@...</td>\n",
        "      <td> 152.8500</td>\n",
        "    </tr>\n",
        "    <tr>\n",
        "      <th>2</th>\n",
        "      <td> 157</td>\n",
        "      <td> 5.1</td>\n",
        "      <td> 2029.45</td>\n",
        "      <td> 1</td>\n",
        "      <td> _qhfFjmokVb@e@d@OVCx@SXO~@gArBq@|Aq@tAWb@a@Fe@...</td>\n",
        "      <td> 103.8220</td>\n",
        "    </tr>\n",
        "    <tr>\n",
        "      <th>3</th>\n",
        "      <td> 160</td>\n",
        "      <td> 5.6</td>\n",
        "      <td> 1788.56</td>\n",
        "      <td> 1</td>\n",
        "      <td> a`|eFxtzjVEbAOpAY~@c@f@s@XwBj@i@^[p@oAjDa@nAMr...</td>\n",
        "      <td>  99.0157</td>\n",
        "    </tr>\n",
        "    <tr>\n",
        "      <th>4</th>\n",
        "      <td> 217</td>\n",
        "      <td> 5.5</td>\n",
        "      <td> 1709.07</td>\n",
        "      <td> 1</td>\n",
        "      <td> cwufFxmnkV|@yBRqA@gAEm@Oc@u@_Aw@m@u@UiACo@DwAf...</td>\n",
        "      <td>  93.7285</td>\n",
        "    </tr>\n",
        "  </tbody>\n",
        "</table>\n",
        "</div>"
       ],
       "metadata": {},
       "output_type": "pyout",
       "prompt_number": 32,
       "text": [
        "   index  average_grade  distance  labels  \\\n",
        "0    146            8.0   1720.91       1   \n",
        "1    156            6.5   2347.78       1   \n",
        "2    157            5.1   2029.45       1   \n",
        "3    160            5.6   1788.56       1   \n",
        "4    217            5.5   1709.07       1   \n",
        "\n",
        "                                            polyline  total_elevation_gain  \n",
        "0  wqbfFx}ckVRY`As@x@Md@YXi@f@c@XMVC^SZ[f@YRCRHd@...              136.5070  \n",
        "1  {ckfF|ffkVTd@@h@U~BO~@YdA_@|@O~@GdBYz@aApAs@n@...              152.8500  \n",
        "2  _qhfFjmokVb@e@d@OVCx@SXO~@gArBq@|Aq@tAWb@a@Fe@...              103.8220  \n",
        "3  a`|eFxtzjVEbAOpAY~@c@f@s@XwBj@i@^[p@oAjDa@nAMr...               99.0157  \n",
        "4  cwufFxmnkV|@yBRqA@gAEm@Oc@u@_Aw@m@u@UiACo@DwAf...               93.7285  "
       ]
      }
     ],
     "prompt_number": 32
    },
    {
     "cell_type": "code",
     "collapsed": false,
     "input": [
      "# add the polylines to the data with the models clustering\n",
      "\n",
      "rider_data_m['polyline'] = P['polyline']\n",
      "rider_data_m.head()"
     ],
     "language": "python",
     "metadata": {},
     "outputs": [
      {
       "html": [
        "<div style=\"max-height:1000px;max-width:1500px;overflow:auto;\">\n",
        "<table border=\"1\" class=\"dataframe\">\n",
        "  <thead>\n",
        "    <tr style=\"text-align: right;\">\n",
        "      <th></th>\n",
        "      <th>id</th>\n",
        "      <th>average_hr</th>\n",
        "      <th>average_watts</th>\n",
        "      <th>moving_time</th>\n",
        "      <th>average_speed</th>\n",
        "      <th>labels</th>\n",
        "      <th>polyline</th>\n",
        "    </tr>\n",
        "  </thead>\n",
        "  <tbody>\n",
        "    <tr>\n",
        "      <th>0</th>\n",
        "      <td> 146</td>\n",
        "      <td> 174.866667</td>\n",
        "      <td> 362.367347</td>\n",
        "      <td> 333.965000</td>\n",
        "      <td> 5.201885</td>\n",
        "      <td> 3</td>\n",
        "      <td> wqbfFx}ckVRY`As@x@Md@YXi@f@c@XMVC^SZ[f@YRCRHd@...</td>\n",
        "    </tr>\n",
        "    <tr>\n",
        "      <th>1</th>\n",
        "      <td> 156</td>\n",
        "      <td> 169.900000</td>\n",
        "      <td> 325.557447</td>\n",
        "      <td> 430.545000</td>\n",
        "      <td> 5.458741</td>\n",
        "      <td> 3</td>\n",
        "      <td> {ckfF|ffkVTd@@h@U~BO~@YdA_@|@O~@GdBYz@aApAs@n@...</td>\n",
        "    </tr>\n",
        "    <tr>\n",
        "      <th>2</th>\n",
        "      <td> 157</td>\n",
        "      <td> 159.474038</td>\n",
        "      <td> 284.000000</td>\n",
        "      <td> 364.440000</td>\n",
        "      <td> 5.563990</td>\n",
        "      <td> 3</td>\n",
        "      <td> _qhfFjmokVb@e@d@OVCx@SXO~@gArBq@|Aq@tAWb@a@Fe@...</td>\n",
        "    </tr>\n",
        "    <tr>\n",
        "      <th>3</th>\n",
        "      <td> 160</td>\n",
        "      <td> 164.647872</td>\n",
        "      <td> 277.526596</td>\n",
        "      <td> 343.943590</td>\n",
        "      <td> 5.195743</td>\n",
        "      <td> 3</td>\n",
        "      <td> a`|eFxtzjVEbAOpAY~@c@f@s@XwBj@i@^[p@oAjDa@nAMr...</td>\n",
        "    </tr>\n",
        "    <tr>\n",
        "      <th>4</th>\n",
        "      <td> 217</td>\n",
        "      <td> 164.464646</td>\n",
        "      <td> 307.937838</td>\n",
        "      <td> 296.482051</td>\n",
        "      <td> 5.716842</td>\n",
        "      <td> 3</td>\n",
        "      <td> cwufFxmnkV|@yBRqA@gAEm@Oc@u@_Aw@m@u@UiACo@DwAf...</td>\n",
        "    </tr>\n",
        "  </tbody>\n",
        "</table>\n",
        "</div>"
       ],
       "metadata": {},
       "output_type": "pyout",
       "prompt_number": 33,
       "text": [
        "    id  average_hr  average_watts  moving_time  average_speed  labels  \\\n",
        "0  146  174.866667     362.367347   333.965000       5.201885       3   \n",
        "1  156  169.900000     325.557447   430.545000       5.458741       3   \n",
        "2  157  159.474038     284.000000   364.440000       5.563990       3   \n",
        "3  160  164.647872     277.526596   343.943590       5.195743       3   \n",
        "4  217  164.464646     307.937838   296.482051       5.716842       3   \n",
        "\n",
        "                                            polyline  \n",
        "0  wqbfFx}ckVRY`As@x@Md@YXi@f@c@XMVC^SZ[f@YRCRHd@...  \n",
        "1  {ckfF|ffkVTd@@h@U~BO~@YdA_@|@O~@GdBYz@aApAs@n@...  \n",
        "2  _qhfFjmokVb@e@d@OVCx@SXO~@gArBq@|Aq@tAWb@a@Fe@...  \n",
        "3  a`|eFxtzjVEbAOpAY~@c@f@s@XwBj@i@^[p@oAjDa@nAMr...  \n",
        "4  cwufFxmnkV|@yBRqA@gAEm@Oc@u@_Aw@m@u@UiACo@DwAf...  "
       ]
      }
     ],
     "prompt_number": 33
    },
    {
     "cell_type": "code",
     "collapsed": false,
     "input": [
      "rider_data_m.to_csv('../data/r_polylines_data.csv', index=False)"
     ],
     "language": "python",
     "metadata": {},
     "outputs": [],
     "prompt_number": 34
    },
    {
     "cell_type": "code",
     "collapsed": false,
     "input": [
      "# rider_data_m['id']"
     ],
     "language": "python",
     "metadata": {},
     "outputs": [],
     "prompt_number": 37
    },
    {
     "cell_type": "code",
     "collapsed": false,
     "input": [],
     "language": "python",
     "metadata": {},
     "outputs": []
    }
   ],
   "metadata": {}
  }
 ]
}