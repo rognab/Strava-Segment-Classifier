{
 "metadata": {
  "name": "",
  "signature": "sha256:eeeba3780e37ff9d7595416fb9d6b9592e50286180c1c7ff3870dcd9b854d1a3"
 },
 "nbformat": 3,
 "nbformat_minor": 0,
 "worksheets": [
  {
   "cells": [
    {
     "cell_type": "code",
     "collapsed": false,
     "input": [
      "from rider_physical_data_work import *\n",
      "%load_ext autoreload\n",
      "%autoreload 2"
     ],
     "language": "python",
     "metadata": {},
     "outputs": [],
     "prompt_number": 1
    },
    {
     "cell_type": "code",
     "collapsed": false,
     "input": [
      "RP = combind_datasets()"
     ],
     "language": "python",
     "metadata": {},
     "outputs": [],
     "prompt_number": 3
    },
    {
     "cell_type": "code",
     "collapsed": false,
     "input": [
      "RP.head()\n",
      "# len(RP)"
     ],
     "language": "python",
     "metadata": {},
     "outputs": [
      {
       "html": [
        "<div style=\"max-height:1000px;max-width:1500px;overflow:auto;\">\n",
        "<table border=\"1\" class=\"dataframe\">\n",
        "  <thead>\n",
        "    <tr style=\"text-align: right;\">\n",
        "      <th></th>\n",
        "      <th>average_hr</th>\n",
        "      <th>average_watts</th>\n",
        "      <th>moving_time</th>\n",
        "      <th>average_speed</th>\n",
        "      <th>average_grade</th>\n",
        "      <th>distance</th>\n",
        "      <th>total_elevation_gain</th>\n",
        "    </tr>\n",
        "  </thead>\n",
        "  <tbody>\n",
        "    <tr>\n",
        "      <th>0</th>\n",
        "      <td> 174.866667</td>\n",
        "      <td> 362.367347</td>\n",
        "      <td> 333.965000</td>\n",
        "      <td> 5.201885</td>\n",
        "      <td> 8.0</td>\n",
        "      <td> 1720.91</td>\n",
        "      <td> 136.5070</td>\n",
        "    </tr>\n",
        "    <tr>\n",
        "      <th>1</th>\n",
        "      <td> 169.900000</td>\n",
        "      <td> 325.557447</td>\n",
        "      <td> 430.545000</td>\n",
        "      <td> 5.458741</td>\n",
        "      <td> 6.5</td>\n",
        "      <td> 2347.78</td>\n",
        "      <td> 152.8500</td>\n",
        "    </tr>\n",
        "    <tr>\n",
        "      <th>2</th>\n",
        "      <td> 159.474038</td>\n",
        "      <td> 284.000000</td>\n",
        "      <td> 364.440000</td>\n",
        "      <td> 5.563990</td>\n",
        "      <td> 5.1</td>\n",
        "      <td> 2029.45</td>\n",
        "      <td> 103.8220</td>\n",
        "    </tr>\n",
        "    <tr>\n",
        "      <th>3</th>\n",
        "      <td> 164.647872</td>\n",
        "      <td> 277.526596</td>\n",
        "      <td> 343.943590</td>\n",
        "      <td> 5.195743</td>\n",
        "      <td> 5.6</td>\n",
        "      <td> 1788.56</td>\n",
        "      <td>  99.0157</td>\n",
        "    </tr>\n",
        "    <tr>\n",
        "      <th>4</th>\n",
        "      <td> 164.464646</td>\n",
        "      <td> 307.937838</td>\n",
        "      <td> 296.482051</td>\n",
        "      <td> 5.716842</td>\n",
        "      <td> 5.5</td>\n",
        "      <td> 1709.07</td>\n",
        "      <td>  93.7285</td>\n",
        "    </tr>\n",
        "  </tbody>\n",
        "</table>\n",
        "</div>"
       ],
       "metadata": {},
       "output_type": "pyout",
       "prompt_number": 4,
       "text": [
        "   average_hr  average_watts  moving_time  average_speed  average_grade  \\\n",
        "0  174.866667     362.367347   333.965000       5.201885            8.0   \n",
        "1  169.900000     325.557447   430.545000       5.458741            6.5   \n",
        "2  159.474038     284.000000   364.440000       5.563990            5.1   \n",
        "3  164.647872     277.526596   343.943590       5.195743            5.6   \n",
        "4  164.464646     307.937838   296.482051       5.716842            5.5   \n",
        "\n",
        "   distance  total_elevation_gain  \n",
        "0   1720.91              136.5070  \n",
        "1   2347.78              152.8500  \n",
        "2   2029.45              103.8220  \n",
        "3   1788.56               99.0157  \n",
        "4   1709.07               93.7285  "
       ]
      }
     ],
     "prompt_number": 4
    },
    {
     "cell_type": "code",
     "collapsed": false,
     "input": [
      "RP.to_csv('../data/rider_physical_data.csv', index=False)"
     ],
     "language": "python",
     "metadata": {},
     "outputs": [],
     "prompt_number": 5
    },
    {
     "cell_type": "code",
     "collapsed": false,
     "input": [
      "# get the data ready for the model\n",
      "\n",
      "arrayed_data = RP.values\n",
      "arrayed_data"
     ],
     "language": "python",
     "metadata": {},
     "outputs": [
      {
       "metadata": {},
       "output_type": "pyout",
       "prompt_number": 6,
       "text": [
        "array([[  1.74866667e+02,   3.62367347e+02,   3.33965000e+02, ...,\n",
        "          8.00000000e+00,   1.72091000e+03,   1.36507000e+02],\n",
        "       [  1.69900000e+02,   3.25557447e+02,   4.30545000e+02, ...,\n",
        "          6.50000000e+00,   2.34778000e+03,   1.52850000e+02],\n",
        "       [  1.59474038e+02,   2.84000000e+02,   3.64440000e+02, ...,\n",
        "          5.10000000e+00,   2.02945000e+03,   1.03822000e+02],\n",
        "       ..., \n",
        "       [  1.43342857e+02,   1.94468116e+02,   3.80490909e+03, ...,\n",
        "          3.60000000e+00,   1.70438000e+04,   8.49100000e+02],\n",
        "       [  1.41377174e+02,   1.75418785e+02,   9.27312821e+02, ...,\n",
        "         -7.00000000e-01,   8.51950000e+03,   5.86000000e+01],\n",
        "       [  1.51964122e+02,   2.23829167e+02,   4.47940000e+02, ...,\n",
        "          2.00000000e-01,   4.24870000e+03,   5.60000000e+01]])"
       ]
      }
     ],
     "prompt_number": 6
    },
    {
     "cell_type": "code",
     "collapsed": false,
     "input": [
      "# get the StandardScaler model and fit the data\n",
      "# may want to inverse scale later\n",
      "\n",
      "scale_model = scale_data()\n",
      "scaled_data = scale_model.fit_transform(arrayed_data)\n",
      "scaled_data"
     ],
     "language": "python",
     "metadata": {},
     "outputs": [
      {
       "metadata": {},
       "output_type": "pyout",
       "prompt_number": 7,
       "text": [
        "array([[ 2.1487745 ,  1.73950193, -0.66067961, ...,  2.10501293,\n",
        "        -0.81118315, -0.02836946],\n",
        "       [ 1.62563143,  1.09976255, -0.54200863, ...,  1.57902269,\n",
        "        -0.70591359,  0.06229186],\n",
        "       [ 0.52745636,  0.37751296, -0.62323399, ...,  1.08809847,\n",
        "        -0.75937038, -0.20968655],\n",
        "       ..., \n",
        "       [-1.1716542 , -1.1785106 ,  3.60418219, ...,  0.56210823,\n",
        "         1.76197204,  3.924676  ],\n",
        "       [-1.37870122, -1.50957935,  0.06838614, ..., -0.94573045,\n",
        "         0.3304962 , -0.46055152],\n",
        "       [-0.26356929, -0.66822885, -0.52063483, ..., -0.6301363 ,\n",
        "        -0.3866943 , -0.47497478]])"
       ]
      }
     ],
     "prompt_number": 7
    },
    {
     "cell_type": "code",
     "collapsed": false,
     "input": [
      "# fit the Kmeans model with 4 clusters initially\n",
      "\n",
      "km = Km_model(4, scaled_data)"
     ],
     "language": "python",
     "metadata": {},
     "outputs": [],
     "prompt_number": 8
    },
    {
     "cell_type": "code",
     "collapsed": false,
     "input": [
      "# looking at the labels of the clusters each segment belongs to\n",
      "\n",
      "labels = km.labels_\n",
      "labels"
     ],
     "language": "python",
     "metadata": {},
     "outputs": [
      {
       "metadata": {},
       "output_type": "pyout",
       "prompt_number": 9,
       "text": [
        "array([3, 3, 3, 3, 3, 3, 3, 3, 3, 3, 3, 3, 3, 3, 3, 3, 3, 3, 3, 3, 3, 3, 3,\n",
        "       3, 3, 3, 3, 3, 3, 3, 3, 3, 3, 3, 3, 3, 3, 0, 3, 3, 3, 3, 3, 3, 3, 3,\n",
        "       3, 1, 3, 3, 3, 0, 0, 3, 3, 3, 0, 0, 2, 3, 3, 0, 3, 1, 0, 0, 0, 3, 0,\n",
        "       0, 0, 0, 3, 0, 3, 0, 3, 3, 3, 0, 3, 0, 0, 2, 3, 3, 3, 2, 2, 2, 2, 3,\n",
        "       0, 2, 0, 0, 0, 2, 3, 3, 3, 3, 3, 3, 3, 3, 0, 2, 1, 3, 3, 3, 3, 0, 2,\n",
        "       3, 3, 1, 2, 0, 0, 2, 0, 3, 0, 3, 0, 3, 0, 0, 0, 0, 3, 0, 3, 0, 2, 3,\n",
        "       0, 0, 0, 0, 3, 2, 2, 3, 0, 3, 0, 0, 0, 0, 2, 0, 2, 3, 0, 0, 1, 3, 1,\n",
        "       2, 3, 3, 0, 0, 3, 0, 0, 0, 0, 2, 0, 3, 0, 2, 0, 0, 3, 3, 3, 3, 3, 2,\n",
        "       0, 3, 3, 3, 2, 0, 0, 2, 3, 0, 1, 1, 2, 2, 3, 3, 3, 0, 0, 0, 0, 3, 3,\n",
        "       0, 1, 1, 3, 3, 3, 1, 2, 2, 2, 0, 2, 2, 3, 0, 2, 2, 3, 1, 3, 3, 2, 3,\n",
        "       0, 2, 3, 2, 0, 3, 3, 0, 3, 3, 0, 3, 1, 2, 3, 0, 2, 3, 3, 2, 0, 0, 3,\n",
        "       0, 2, 0, 3, 0, 2, 3, 3, 0, 0, 0, 3, 2, 3, 2, 0, 2, 2, 3, 3, 0, 3, 3,\n",
        "       0, 0, 3, 2, 2, 3, 2, 2, 2, 2, 3, 0, 2, 0, 3, 3, 2, 0, 0, 0, 2, 0, 3,\n",
        "       2, 3, 0, 0, 1, 2, 0, 0, 2, 3, 2, 3, 1, 3, 2, 2, 3, 3, 0, 2, 2, 2, 3,\n",
        "       2, 2, 0, 0, 0, 2, 2, 3, 3, 0, 2, 3, 2, 3, 2, 2, 0, 3, 3, 0, 0, 0, 2,\n",
        "       3, 3, 2, 2, 1, 2, 0, 0, 2, 2, 2, 2, 3, 2, 2, 2, 0, 0, 3, 3, 0, 0, 2,\n",
        "       3, 2, 0, 2, 0, 1, 2, 0, 2, 0, 2, 0, 0, 1, 0, 2, 1, 3, 1, 2, 3, 2, 3,\n",
        "       3, 0, 2, 0, 2, 3, 2, 2, 1, 0, 0, 0, 0, 1, 2, 1, 2, 3, 0, 3, 1, 2, 2,\n",
        "       0, 3, 1, 0, 0, 2, 2, 0, 0, 2, 3, 0, 0, 2, 0, 3, 1, 0, 0, 2, 0, 2, 2,\n",
        "       0, 2, 1, 0, 0, 3, 2, 1, 3, 1, 3, 3, 0, 0, 0, 0, 0, 2, 0, 3, 3, 0, 2,\n",
        "       2, 0, 0, 0, 0, 1, 0, 3, 3, 0, 0, 1, 0, 2, 3, 0, 0, 2, 0, 3, 2, 2, 0,\n",
        "       2, 2, 0, 0, 3, 2, 0, 0, 3, 3, 2, 1, 2, 3, 2, 0, 0, 0, 2, 0, 3, 1, 0,\n",
        "       0, 2, 0, 1, 2, 2, 2, 2, 0, 2, 0, 2, 3, 0, 0, 2, 0, 0, 0, 0, 2, 0, 0,\n",
        "       2, 1, 2, 0, 0, 3, 2, 2, 0, 0, 0, 0, 0, 2, 0, 3, 0, 0, 0, 0, 3, 0, 1,\n",
        "       2, 0, 2, 2, 3, 2, 3, 2, 0, 0, 2, 0, 3, 0, 2, 2, 2, 2, 2, 0, 3, 0, 0,\n",
        "       0, 0, 3, 0, 3, 2, 2, 3, 0, 3, 0, 2, 2, 2, 0, 3, 0, 2, 1, 0, 0, 0, 1,\n",
        "       2, 2], dtype=int32)"
       ]
      }
     ],
     "prompt_number": 9
    },
    {
     "cell_type": "code",
     "collapsed": false,
     "input": [
      "# check the centers of the clusters(after scaling)\n",
      "\n",
      "centroids = km.cluster_centers_\n",
      "centroids"
     ],
     "language": "python",
     "metadata": {},
     "outputs": [
      {
       "metadata": {},
       "output_type": "pyout",
       "prompt_number": 10,
       "text": [
        "array([[ 0.13290059,  0.60088202, -0.45721651,  1.04219197, -0.71570409,\n",
        "        -0.18650314, -0.52681068],\n",
        "       [-0.34886757, -0.60378957,  2.8905792 , -0.39265488, -0.02017219,\n",
        "         2.72977778,  2.24419065],\n",
        "       [-1.12022508, -1.12928556, -0.06053968,  0.01382602, -0.59507029,\n",
        "         0.04139738, -0.39123405],\n",
        "       [ 0.79394676,  0.35813888, -0.02492789, -1.03028363,  1.21602775,\n",
        "        -0.35742511,  0.4275087 ]])"
       ]
      }
     ],
     "prompt_number": 10
    },
    {
     "cell_type": "code",
     "collapsed": false,
     "input": [
      "RP.columns"
     ],
     "language": "python",
     "metadata": {},
     "outputs": [
      {
       "metadata": {},
       "output_type": "pyout",
       "prompt_number": 11,
       "text": [
        "Index([u'average_hr', u'average_watts', u'moving_time', u'average_speed', u'average_grade', u'distance', u'total_elevation_gain'], dtype='object')"
       ]
      }
     ],
     "prompt_number": 11
    },
    {
     "cell_type": "code",
     "collapsed": false,
     "input": [
      "# check the centers of the clusters(before scaling)\n",
      "\n",
      "scale_model.inverse_transform(centroids)"
     ],
     "language": "python",
     "metadata": {},
     "outputs": [
      {
       "metadata": {},
       "output_type": "pyout",
       "prompt_number": 12,
       "text": [
        "array([[  1.55728167e+02,   2.96852410e+02,   4.99552798e+02,\n",
        "          1.10532266e+01,  -4.40191388e-02,   5.44081900e+03,\n",
        "          4.66558382e+01],\n",
        "       [  1.51154309e+02,   2.27536932e+02,   3.22414559e+03,\n",
        "          7.13846914e+00,   1.93947368e+00,   2.28069895e+04,\n",
        "          5.46168474e+02],\n",
        "       [  1.43831120e+02,   1.97300471e+02,   8.22386961e+02,\n",
        "          8.24748934e+00,   3.00000000e-01,   6.79794448e+03,\n",
        "          7.10954655e+01],\n",
        "       [  1.62004071e+02,   2.82885237e+02,   8.51369504e+02,\n",
        "          5.39879782e+00,   5.46482412e+00,   4.42299520e+03,\n",
        "          2.18685559e+02]])"
       ]
      }
     ],
     "prompt_number": 12
    },
    {
     "cell_type": "code",
     "collapsed": false,
     "input": [
      "# how well did the clustering do? Checking the inertia\n",
      "\n",
      "km.inertia_"
     ],
     "language": "python",
     "metadata": {},
     "outputs": [
      {
       "metadata": {},
       "output_type": "pyout",
       "prompt_number": 13,
       "text": [
        "1674.4177798224873"
       ]
      }
     ],
     "prompt_number": 13
    },
    {
     "cell_type": "code",
     "collapsed": false,
     "input": [
      "# put the labels into the physical_data dataframe\n",
      "\n",
      "RP['labels'] = km.labels_"
     ],
     "language": "python",
     "metadata": {},
     "outputs": [],
     "prompt_number": 14
    },
    {
     "cell_type": "code",
     "collapsed": false,
     "input": [
      "# looking at the returned dataframe\n",
      "\n",
      "RP.head()"
     ],
     "language": "python",
     "metadata": {},
     "outputs": [
      {
       "html": [
        "<div style=\"max-height:1000px;max-width:1500px;overflow:auto;\">\n",
        "<table border=\"1\" class=\"dataframe\">\n",
        "  <thead>\n",
        "    <tr style=\"text-align: right;\">\n",
        "      <th></th>\n",
        "      <th>average_hr</th>\n",
        "      <th>average_watts</th>\n",
        "      <th>moving_time</th>\n",
        "      <th>average_speed</th>\n",
        "      <th>average_grade</th>\n",
        "      <th>distance</th>\n",
        "      <th>total_elevation_gain</th>\n",
        "      <th>labels</th>\n",
        "    </tr>\n",
        "  </thead>\n",
        "  <tbody>\n",
        "    <tr>\n",
        "      <th>0</th>\n",
        "      <td> 174.866667</td>\n",
        "      <td> 362.367347</td>\n",
        "      <td> 333.965000</td>\n",
        "      <td> 5.201885</td>\n",
        "      <td> 8.0</td>\n",
        "      <td> 1720.91</td>\n",
        "      <td> 136.5070</td>\n",
        "      <td> 3</td>\n",
        "    </tr>\n",
        "    <tr>\n",
        "      <th>1</th>\n",
        "      <td> 169.900000</td>\n",
        "      <td> 325.557447</td>\n",
        "      <td> 430.545000</td>\n",
        "      <td> 5.458741</td>\n",
        "      <td> 6.5</td>\n",
        "      <td> 2347.78</td>\n",
        "      <td> 152.8500</td>\n",
        "      <td> 3</td>\n",
        "    </tr>\n",
        "    <tr>\n",
        "      <th>2</th>\n",
        "      <td> 159.474038</td>\n",
        "      <td> 284.000000</td>\n",
        "      <td> 364.440000</td>\n",
        "      <td> 5.563990</td>\n",
        "      <td> 5.1</td>\n",
        "      <td> 2029.45</td>\n",
        "      <td> 103.8220</td>\n",
        "      <td> 3</td>\n",
        "    </tr>\n",
        "    <tr>\n",
        "      <th>3</th>\n",
        "      <td> 164.647872</td>\n",
        "      <td> 277.526596</td>\n",
        "      <td> 343.943590</td>\n",
        "      <td> 5.195743</td>\n",
        "      <td> 5.6</td>\n",
        "      <td> 1788.56</td>\n",
        "      <td>  99.0157</td>\n",
        "      <td> 3</td>\n",
        "    </tr>\n",
        "    <tr>\n",
        "      <th>4</th>\n",
        "      <td> 164.464646</td>\n",
        "      <td> 307.937838</td>\n",
        "      <td> 296.482051</td>\n",
        "      <td> 5.716842</td>\n",
        "      <td> 5.5</td>\n",
        "      <td> 1709.07</td>\n",
        "      <td>  93.7285</td>\n",
        "      <td> 3</td>\n",
        "    </tr>\n",
        "  </tbody>\n",
        "</table>\n",
        "</div>"
       ],
       "metadata": {},
       "output_type": "pyout",
       "prompt_number": 15,
       "text": [
        "   average_hr  average_watts  moving_time  average_speed  average_grade  \\\n",
        "0  174.866667     362.367347   333.965000       5.201885            8.0   \n",
        "1  169.900000     325.557447   430.545000       5.458741            6.5   \n",
        "2  159.474038     284.000000   364.440000       5.563990            5.1   \n",
        "3  164.647872     277.526596   343.943590       5.195743            5.6   \n",
        "4  164.464646     307.937838   296.482051       5.716842            5.5   \n",
        "\n",
        "   distance  total_elevation_gain  labels  \n",
        "0   1720.91              136.5070       3  \n",
        "1   2347.78              152.8500       3  \n",
        "2   2029.45              103.8220       3  \n",
        "3   1788.56               99.0157       3  \n",
        "4   1709.07               93.7285       3  "
       ]
      }
     ],
     "prompt_number": 15
    },
    {
     "cell_type": "code",
     "collapsed": false,
     "input": [
      "# checking different numbers of clusters and their intertia values\n",
      "\n",
      "k_means_2 = KMeans(init='k-means++', n_clusters=2, n_init=10)\n",
      "k_means_2.fit(scaled_data)\n",
      "k_means_2_labels = k_means_2.labels_\n",
      "k_means_2_cluster_centers = k_means_2.cluster_centers_\n",
      "\n",
      "k_means_3 = KMeans(init='k-means++', n_clusters=3, n_init=10)\n",
      "k_means_3.fit(scaled_data)\n",
      "k_means_3_labels = k_means_3.labels_\n",
      "k_means_3_cluster_centers = k_means_3.cluster_centers_\n",
      "\n",
      "k_means_4 = KMeans(init='k-means++', n_clusters=4, n_init=10)\n",
      "k_means_4.fit(scaled_data)\n",
      "k_means_4_labels = k_means_4.labels_\n",
      "k_means_4_cluster_centers = k_means_4.cluster_centers_\n",
      "\n",
      "k_means_5 = KMeans(init='k-means++', n_clusters=5, n_init=10)\n",
      "k_means_5.fit(scaled_data)\n",
      "k_means_5_labels = k_means_5.labels_\n",
      "k_means_5_cluster_centers = k_means_5.cluster_centers_\n",
      "\n",
      "k_means_6 = KMeans(init='k-means++', n_clusters=6, n_init=10)\n",
      "k_means_6.fit(scaled_data)\n",
      "k_means_6_labels = k_means_6.labels_\n",
      "k_means_6_cluster_centers = k_means_6.cluster_centers_\n",
      "\n",
      "k_means_7 = KMeans(init='k-means++', n_clusters=7, n_init=10)\n",
      "k_means_7.fit(scaled_data)\n",
      "k_means_7_labels = k_means_7.labels_\n",
      "k_means_7_cluster_centers = k_means_7.cluster_centers_\n",
      "\n",
      "figure(figsize=(8, 5))\n",
      "\n",
      "bar(range(6),[k_means_2.inertia_, k_means_3.inertia_, k_means_4.inertia_, k_means_5.inertia_, k_means_6.inertia_, k_means_7.inertia_])\n",
      "xticks([0.5,1.5,2.5,3.5,4.5,5.5],('k=2','k=3','k=4','k=5','k=6','k=7'))\n",
      "title(\"Inertia\");"
     ],
     "language": "python",
     "metadata": {},
     "outputs": [
      {
       "metadata": {},
       "output_type": "display_data",
       "png": "[encoded data removed]",
       "text": [
        "<matplotlib.figure.Figure at 0x10b1e0250>"
       ]
      }
     ],
     "prompt_number": 16
    },
    {
     "cell_type": "code",
     "collapsed": false,
     "input": [
      "# looking at the Silhouette Coefficient as a measure of close the clusters are. \n",
      "# closer to 1 the better.\n",
      "\n",
      "k_means_2_silhouette_score = metrics.silhouette_score(scaled_data, k_means_2_labels, metric='euclidean')\n",
      "k_means_3_silhouette_score = metrics.silhouette_score(scaled_data, k_means_3_labels, metric='euclidean')\n",
      "k_means_4_silhouette_score = metrics.silhouette_score(scaled_data, k_means_4_labels, metric='euclidean')\n",
      "k_means_5_silhouette_score = metrics.silhouette_score(scaled_data, k_means_5_labels, metric='euclidean')\n",
      "k_means_6_silhouette_score = metrics.silhouette_score(scaled_data, k_means_6_labels, metric='euclidean')\n",
      "k_means_7_silhouette_score = metrics.silhouette_score(scaled_data, k_means_7_labels, metric='euclidean')\n",
      "\n",
      "figure(figsize=(8, 5))\n",
      "\n",
      "bar(range(6),[k_means_2_silhouette_score, k_means_3_silhouette_score, k_means_4_silhouette_score, k_means_5_silhouette_score, k_means_6_silhouette_score, k_means_7_silhouette_score])\n",
      "xticks([0.5,1.5,2.5,3.5,4.5,5.5],('k=2','k=3','k=4','k=5','k=6','k=7'))\n",
      "title(\"Silhouette Coefficient\");"
     ],
     "language": "python",
     "metadata": {},
     "outputs": [
      {
       "metadata": {},
       "output_type": "display_data",
       "png": "[encoded data removed]",
       "text": [
        "<matplotlib.figure.Figure at 0x10bc09490>"
       ]
      }
     ],
     "prompt_number": 17
    },
    {
     "cell_type": "code",
     "collapsed": false,
     "input": [
      "# bring in the other p_polyline dataset and put it all together\n",
      "\n",
      "poly = pd.read_csv('data/p_polylines_data.csv')"
     ],
     "language": "python",
     "metadata": {},
     "outputs": [],
     "prompt_number": 18
    },
    {
     "cell_type": "code",
     "collapsed": false,
     "input": [
      "poly.head()"
     ],
     "language": "python",
     "metadata": {},
     "outputs": [
      {
       "html": [
        "<div style=\"max-height:1000px;max-width:1500px;overflow:auto;\">\n",
        "<table border=\"1\" class=\"dataframe\">\n",
        "  <thead>\n",
        "    <tr style=\"text-align: right;\">\n",
        "      <th></th>\n",
        "      <th>index</th>\n",
        "      <th>average_grade</th>\n",
        "      <th>distance</th>\n",
        "      <th>labels</th>\n",
        "      <th>polyline</th>\n",
        "      <th>total_elevation_gain</th>\n",
        "    </tr>\n",
        "  </thead>\n",
        "  <tbody>\n",
        "    <tr>\n",
        "      <th>0</th>\n",
        "      <td> 146</td>\n",
        "      <td> 8.0</td>\n",
        "      <td> 1720.91</td>\n",
        "      <td> 1</td>\n",
        "      <td> wqbfFx}ckVRY`As@x@Md@YXi@f@c@XMVC^SZ[f@YRCRHd@...</td>\n",
        "      <td> 136.5070</td>\n",
        "    </tr>\n",
        "    <tr>\n",
        "      <th>1</th>\n",
        "      <td> 156</td>\n",
        "      <td> 6.5</td>\n",
        "      <td> 2347.78</td>\n",
        "      <td> 1</td>\n",
        "      <td> {ckfF|ffkVTd@@h@U~BO~@YdA_@|@O~@GdBYz@aApAs@n@...</td>\n",
        "      <td> 152.8500</td>\n",
        "    </tr>\n",
        "    <tr>\n",
        "      <th>2</th>\n",
        "      <td> 157</td>\n",
        "      <td> 5.1</td>\n",
        "      <td> 2029.45</td>\n",
        "      <td> 1</td>\n",
        "      <td> _qhfFjmokVb@e@d@OVCx@SXO~@gArBq@|Aq@tAWb@a@Fe@...</td>\n",
        "      <td> 103.8220</td>\n",
        "    </tr>\n",
        "    <tr>\n",
        "      <th>3</th>\n",
        "      <td> 160</td>\n",
        "      <td> 5.6</td>\n",
        "      <td> 1788.56</td>\n",
        "      <td> 1</td>\n",
        "      <td> a`|eFxtzjVEbAOpAY~@c@f@s@XwBj@i@^[p@oAjDa@nAMr...</td>\n",
        "      <td>  99.0157</td>\n",
        "    </tr>\n",
        "    <tr>\n",
        "      <th>4</th>\n",
        "      <td> 217</td>\n",
        "      <td> 5.5</td>\n",
        "      <td> 1709.07</td>\n",
        "      <td> 1</td>\n",
        "      <td> cwufFxmnkV|@yBRqA@gAEm@Oc@u@_Aw@m@u@UiACo@DwAf...</td>\n",
        "      <td>  93.7285</td>\n",
        "    </tr>\n",
        "  </tbody>\n",
        "</table>\n",
        "</div>"
       ],
       "metadata": {},
       "output_type": "pyout",
       "prompt_number": 19,
       "text": [
        "   index  average_grade  distance  labels  \\\n",
        "0    146            8.0   1720.91       1   \n",
        "1    156            6.5   2347.78       1   \n",
        "2    157            5.1   2029.45       1   \n",
        "3    160            5.6   1788.56       1   \n",
        "4    217            5.5   1709.07       1   \n",
        "\n",
        "                                            polyline  total_elevation_gain  \n",
        "0  wqbfFx}ckVRY`As@x@Md@YXi@f@c@XMVC^SZ[f@YRCRHd@...              136.5070  \n",
        "1  {ckfF|ffkVTd@@h@U~BO~@YdA_@|@O~@GdBYz@aApAs@n@...              152.8500  \n",
        "2  _qhfFjmokVb@e@d@OVCx@SXO~@gArBq@|Aq@tAWb@a@Fe@...              103.8220  \n",
        "3  a`|eFxtzjVEbAOpAY~@c@f@s@XwBj@i@^[p@oAjDa@nAMr...               99.0157  \n",
        "4  cwufFxmnkV|@yBRqA@gAEm@Oc@u@_Aw@m@u@UiACo@DwAf...               93.7285  "
       ]
      }
     ],
     "prompt_number": 19
    },
    {
     "cell_type": "code",
     "collapsed": false,
     "input": [
      "# add to the dataframe\n",
      "# note the segment ids are going to be under \"id\" for the rp_polylines_data, \n",
      "# while for the p_polylines_data they are called \"index\"\n",
      "# important to remember this when ploting...\n",
      "\n",
      "RP['polyline'] = poly['polyline']\n",
      "RP['id'] = poly['index']"
     ],
     "language": "python",
     "metadata": {},
     "outputs": [],
     "prompt_number": 20
    },
    {
     "cell_type": "code",
     "collapsed": false,
     "input": [
      "RP.head()"
     ],
     "language": "python",
     "metadata": {},
     "outputs": [
      {
       "html": [
        "<div style=\"max-height:1000px;max-width:1500px;overflow:auto;\">\n",
        "<table border=\"1\" class=\"dataframe\">\n",
        "  <thead>\n",
        "    <tr style=\"text-align: right;\">\n",
        "      <th></th>\n",
        "      <th>average_hr</th>\n",
        "      <th>average_watts</th>\n",
        "      <th>moving_time</th>\n",
        "      <th>average_speed</th>\n",
        "      <th>average_grade</th>\n",
        "      <th>distance</th>\n",
        "      <th>total_elevation_gain</th>\n",
        "      <th>labels</th>\n",
        "      <th>polyline</th>\n",
        "      <th>id</th>\n",
        "    </tr>\n",
        "  </thead>\n",
        "  <tbody>\n",
        "    <tr>\n",
        "      <th>0</th>\n",
        "      <td> 174.866667</td>\n",
        "      <td> 362.367347</td>\n",
        "      <td> 333.965000</td>\n",
        "      <td> 5.201885</td>\n",
        "      <td> 8.0</td>\n",
        "      <td> 1720.91</td>\n",
        "      <td> 136.5070</td>\n",
        "      <td> 3</td>\n",
        "      <td> wqbfFx}ckVRY`As@x@Md@YXi@f@c@XMVC^SZ[f@YRCRHd@...</td>\n",
        "      <td> 146</td>\n",
        "    </tr>\n",
        "    <tr>\n",
        "      <th>1</th>\n",
        "      <td> 169.900000</td>\n",
        "      <td> 325.557447</td>\n",
        "      <td> 430.545000</td>\n",
        "      <td> 5.458741</td>\n",
        "      <td> 6.5</td>\n",
        "      <td> 2347.78</td>\n",
        "      <td> 152.8500</td>\n",
        "      <td> 3</td>\n",
        "      <td> {ckfF|ffkVTd@@h@U~BO~@YdA_@|@O~@GdBYz@aApAs@n@...</td>\n",
        "      <td> 156</td>\n",
        "    </tr>\n",
        "    <tr>\n",
        "      <th>2</th>\n",
        "      <td> 159.474038</td>\n",
        "      <td> 284.000000</td>\n",
        "      <td> 364.440000</td>\n",
        "      <td> 5.563990</td>\n",
        "      <td> 5.1</td>\n",
        "      <td> 2029.45</td>\n",
        "      <td> 103.8220</td>\n",
        "      <td> 3</td>\n",
        "      <td> _qhfFjmokVb@e@d@OVCx@SXO~@gArBq@|Aq@tAWb@a@Fe@...</td>\n",
        "      <td> 157</td>\n",
        "    </tr>\n",
        "    <tr>\n",
        "      <th>3</th>\n",
        "      <td> 164.647872</td>\n",
        "      <td> 277.526596</td>\n",
        "      <td> 343.943590</td>\n",
        "      <td> 5.195743</td>\n",
        "      <td> 5.6</td>\n",
        "      <td> 1788.56</td>\n",
        "      <td>  99.0157</td>\n",
        "      <td> 3</td>\n",
        "      <td> a`|eFxtzjVEbAOpAY~@c@f@s@XwBj@i@^[p@oAjDa@nAMr...</td>\n",
        "      <td> 160</td>\n",
        "    </tr>\n",
        "    <tr>\n",
        "      <th>4</th>\n",
        "      <td> 164.464646</td>\n",
        "      <td> 307.937838</td>\n",
        "      <td> 296.482051</td>\n",
        "      <td> 5.716842</td>\n",
        "      <td> 5.5</td>\n",
        "      <td> 1709.07</td>\n",
        "      <td>  93.7285</td>\n",
        "      <td> 3</td>\n",
        "      <td> cwufFxmnkV|@yBRqA@gAEm@Oc@u@_Aw@m@u@UiACo@DwAf...</td>\n",
        "      <td> 217</td>\n",
        "    </tr>\n",
        "  </tbody>\n",
        "</table>\n",
        "</div>"
       ],
       "metadata": {},
       "output_type": "pyout",
       "prompt_number": 21,
       "text": [
        "   average_hr  average_watts  moving_time  average_speed  average_grade  \\\n",
        "0  174.866667     362.367347   333.965000       5.201885            8.0   \n",
        "1  169.900000     325.557447   430.545000       5.458741            6.5   \n",
        "2  159.474038     284.000000   364.440000       5.563990            5.1   \n",
        "3  164.647872     277.526596   343.943590       5.195743            5.6   \n",
        "4  164.464646     307.937838   296.482051       5.716842            5.5   \n",
        "\n",
        "   distance  total_elevation_gain  labels  \\\n",
        "0   1720.91              136.5070       3   \n",
        "1   2347.78              152.8500       3   \n",
        "2   2029.45              103.8220       3   \n",
        "3   1788.56               99.0157       3   \n",
        "4   1709.07               93.7285       3   \n",
        "\n",
        "                                            polyline   id  \n",
        "0  wqbfFx}ckVRY`As@x@Md@YXi@f@c@XMVC^SZ[f@YRCRHd@...  146  \n",
        "1  {ckfF|ffkVTd@@h@U~BO~@YdA_@|@O~@GdBYz@aApAs@n@...  156  \n",
        "2  _qhfFjmokVb@e@d@OVCx@SXO~@gArBq@|Aq@tAWb@a@Fe@...  157  \n",
        "3  a`|eFxtzjVEbAOpAY~@c@f@s@XwBj@i@^[p@oAjDa@nAMr...  160  \n",
        "4  cwufFxmnkV|@yBRqA@gAEm@Oc@u@_Aw@m@u@UiACo@DwAf...  217  "
       ]
      }
     ],
     "prompt_number": 21
    },
    {
     "cell_type": "code",
     "collapsed": false,
     "input": [
      "RP.to_csv('../data/rp_polylines_data.csv', index=False)"
     ],
     "language": "python",
     "metadata": {},
     "outputs": [],
     "prompt_number": 22
    },
    {
     "cell_type": "code",
     "collapsed": false,
     "input": [],
     "language": "python",
     "metadata": {},
     "outputs": []
    }
   ],
   "metadata": {}
  }
 ]
}